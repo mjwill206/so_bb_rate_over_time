{
 "cells": [
  {
   "cell_type": "markdown",
   "metadata": {},
   "source": [
    "# SO/BB Trend Over Time"
   ]
  },
  {
   "cell_type": "markdown",
   "metadata": {},
   "source": [
    "## Table of Contents:\n",
    "\n",
    "- [Imports](#imports)\n",
    "- [Data](#data)\n",
    "- [EDA/Analysis](#eda_analysis)"
   ]
  },
  {
   "cell_type": "markdown",
   "metadata": {},
   "source": [
    "### Imports: <a class = \"anchor\" id = \"imports\"></a>"
   ]
  },
  {
   "cell_type": "code",
   "execution_count": 1,
   "metadata": {},
   "outputs": [],
   "source": [
    "import numpy as np\n",
    "import pandas as pd\n",
    "import matplotlib.pyplot as plt\n",
    "plt.style.use(\"ggplot\")"
   ]
  },
  {
   "cell_type": "markdown",
   "metadata": {},
   "source": [
    "### Data: <a class = \"anchor\" id = \"data\"></a>"
   ]
  },
  {
   "cell_type": "code",
   "execution_count": 4,
   "metadata": {},
   "outputs": [
    {
     "data": {
      "text/html": [
       "<div>\n",
       "<style scoped>\n",
       "    .dataframe tbody tr th:only-of-type {\n",
       "        vertical-align: middle;\n",
       "    }\n",
       "\n",
       "    .dataframe tbody tr th {\n",
       "        vertical-align: top;\n",
       "    }\n",
       "\n",
       "    .dataframe thead th {\n",
       "        text-align: right;\n",
       "    }\n",
       "</style>\n",
       "<table border=\"1\" class=\"dataframe\">\n",
       "  <thead>\n",
       "    <tr style=\"text-align: right;\">\n",
       "      <th></th>\n",
       "      <th>playerID</th>\n",
       "      <th>SO</th>\n",
       "      <th>BB</th>\n",
       "      <th>IPouts</th>\n",
       "      <th>midYear</th>\n",
       "      <th>SO/BB</th>\n",
       "    </tr>\n",
       "  </thead>\n",
       "  <tbody>\n",
       "    <tr>\n",
       "      <th>0</th>\n",
       "      <td>bechtge01</td>\n",
       "      <td>340</td>\n",
       "      <td>183</td>\n",
       "      <td>1011</td>\n",
       "      <td>2009.0</td>\n",
       "      <td>1.857923</td>\n",
       "    </tr>\n",
       "    <tr>\n",
       "      <th>1</th>\n",
       "      <td>brainas01</td>\n",
       "      <td>641</td>\n",
       "      <td>457</td>\n",
       "      <td>3328</td>\n",
       "      <td>1984.0</td>\n",
       "      <td>1.402626</td>\n",
       "    </tr>\n",
       "    <tr>\n",
       "      <th>2</th>\n",
       "      <td>fergubo01</td>\n",
       "      <td>280</td>\n",
       "      <td>116</td>\n",
       "      <td>992</td>\n",
       "      <td>2014.5</td>\n",
       "      <td>2.413793</td>\n",
       "    </tr>\n",
       "    <tr>\n",
       "      <th>3</th>\n",
       "      <td>fishech01</td>\n",
       "      <td>161</td>\n",
       "      <td>192</td>\n",
       "      <td>1704</td>\n",
       "      <td>1894.5</td>\n",
       "      <td>0.838542</td>\n",
       "    </tr>\n",
       "    <tr>\n",
       "      <th>4</th>\n",
       "      <td>fleetfr01</td>\n",
       "      <td>0</td>\n",
       "      <td>0</td>\n",
       "      <td>6</td>\n",
       "      <td>1896.0</td>\n",
       "      <td>NaN</td>\n",
       "    </tr>\n",
       "  </tbody>\n",
       "</table>\n",
       "</div>"
      ],
      "text/plain": [
       "    playerID   SO   BB  IPouts  midYear     SO/BB\n",
       "0  bechtge01  340  183    1011   2009.0  1.857923\n",
       "1  brainas01  641  457    3328   1984.0  1.402626\n",
       "2  fergubo01  280  116     992   2014.5  2.413793\n",
       "3  fishech01  161  192    1704   1894.5  0.838542\n",
       "4  fleetfr01    0    0       6   1896.0       NaN"
      ]
     },
     "execution_count": 4,
     "metadata": {},
     "output_type": "execute_result"
    }
   ],
   "source": [
    "path = \"data/Pitching.csv\"\n",
    "\n",
    "pitching_df = pd.read_csv(path)\n",
    "\n",
    "player_ID = pitching_df[\"playerID\"].unique()\n",
    "\n",
    "SO = pitching_df.groupby(\"playerID\")[\"SO\"].sum()\n",
    "\n",
    "BB = pitching_df.groupby(\"playerID\")[\"BB\"].sum()\n",
    "\n",
    "IP_outs = pitching_df.groupby(\"playerID\")[\"IPouts\"].sum()\n",
    "\n",
    "mid_year = pitching_df.groupby(\"playerID\")[\"yearID\"].median()\n",
    "\n",
    "career_pitching = pd.DataFrame(zip(player_ID, SO, BB, IP_outs, mid_year),\n",
    "                              columns = [\"playerID\", \"SO\", \"BB\", \"IPouts\", \"midYear\"])\n",
    "\n",
    "career_pitching[\"SO/BB\"] = career_pitching[\"SO\"] / career_pitching[\"BB\"]\n",
    "\n",
    "career_pitching.head()"
   ]
  },
  {
   "cell_type": "markdown",
   "metadata": {},
   "source": [
    "### EDA/Analysis: <a class = \"anchor\" id = \"eda_analysis\"></a>"
   ]
  },
  {
   "cell_type": "code",
   "execution_count": 9,
   "metadata": {},
   "outputs": [
    {
     "data": {
      "image/png": "[encoded data removed]",
      "text/plain": [
       "<Figure size 864x576 with 1 Axes>"
      ]
     },
     "metadata": {},
     "output_type": "display_data"
    }
   ],
   "source": [
    "plt.figure(figsize = (12,8))\n",
    "\n",
    "x = career_pitching.loc[career_pitching[\"IPouts\"] >= 10_000, \"midYear\"]\n",
    "y = career_pitching.loc[career_pitching[\"IPouts\"] >= 10_000, \"SO/BB\"]\n",
    "\n",
    "plt.scatter(x, y, c = \"blue\")\n",
    "\n",
    "z = np.polyfit(x,y,1)\n",
    "p = np.poly1d(z)\n",
    "plt.plot(x, p(x), \"r--\")\n",
    "\n",
    "plt.title(\"Median Season SO/BB for All Pitchers w/ IPouts >= 10,000\")\n",
    "plt.xlabel(\"Year\")\n",
    "plt.ylabel(\"SO/BB\")\n",
    "\n",
    "outlier1 = career_pitching.loc[(career_pitching[\"SO/BB\"] > 5) & (career_pitching[\"IPouts\"] >= 10_000), [\"playerID\", \"midYear\", \"SO/BB\"]].reset_index()\n",
    "plt.annotate(outlier1[\"playerID\"][0],\n",
    "             (outlier1[\"midYear\"][0], outlier1[\"SO/BB\"][0]),\n",
    "             ha = \"center\",\n",
    "             va = \"top\")\n",
    "\n",
    "outlier2 = career_pitching.loc[(career_pitching[\"SO/BB\"] > 3.8) & (career_pitching[\"SO/BB\"] < 3.83) & (career_pitching[\"IPouts\"] >= 10_000), [\"playerID\", \"midYear\", \"SO/BB\"]].reset_index()\n",
    "plt.annotate(outlier2[\"playerID\"][0],\n",
    "             (outlier2[\"midYear\"][0], outlier2[\"SO/BB\"][0]),\n",
    "             ha = \"center\",\n",
    "             va = \"top\");"
   ]
  },
  {
   "cell_type": "markdown",
   "metadata": {},
   "source": [
    "- For all pitchers with at least 10,000 outs pitched, their SO/BB have slowly increased over time"
   ]
  }
 ],
 "metadata": {
  "kernelspec": {
   "display_name": "Python 3",
   "language": "python",
   "name": "python3"
  },
  "language_info": {
   "codemirror_mode": {
    "name": "ipython",
    "version": 3
   },
   "file_extension": ".py",
   "mimetype": "text/x-python",
   "name": "python",
   "nbconvert_exporter": "python",
   "pygments_lexer": "ipython3",
   "version": "3.7.6"
  }
 },
 "nbformat": 4,
 "nbformat_minor": 4
}
